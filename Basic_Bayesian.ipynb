{
  "nbformat": 4,
  "nbformat_minor": 0,
  "metadata": {
    "colab": {
      "name": "Basic_Bayesian.ipynb",
      "version": "0.3.2",
      "provenance": [],
      "collapsed_sections": []
    },
    "kernelspec": {
      "name": "python2",
      "display_name": "Python 2"
    }
  },
  "cells": [
    {
      "cell_type": "markdown",
      "metadata": {
        "id": "ICLCnfUnckZL",
        "colab_type": "text"
      },
      "source": [
        "## Description\n",
        "\n",
        "Here we try to model as Bayessian linear equation with two normal parameters. Our goal is to predict the outcomes Y as normally distributed over a mean mu. Lets' call the independent variables X1 and X2. \n",
        "\n",
        "Mathematically, the equation at the core of our model is as follows :      \n",
        "\n",
        "                                mu = aX1 + bX2 + c \n",
        " \n",
        " Our dependent variable Y is defined as follows: \n",
        " \n",
        "                                Y ~ N(mu, sigma^2 )\n",
        " \n",
        " Our parameters are defined as follows:\n",
        " \n",
        "                                a ~ N(0,100)\n",
        "                                b ~ N(0,100)\n",
        " \n",
        "                                sigma ~ | N(0,1) | \n",
        " \n",
        "We assign a half normal distribution to sigma to make always positive. \n",
        "\n",
        "Model Notation - for easy of understadning,  c --> alpha ; a --> beta1 ; b --> beta2 ;\n",
        "\n",
        "\n",
        "The next step is to define a model prior for our parameters. We use PyMC library in python to work around priors and predicting posteriors. \n",
        "fitting the model can be done by two mwthods each suiting a different practical purpose. \n",
        "\n",
        "**Maximum Posteriori (MAP)**- We estimate the modeof the posteriori distribution. Thismodel iusd numerical optimizatipon methods to return a point estimate as out result, but with a few limitations. Getting a point estimate of the mode of the posteriori can leave our model prone to biase if the mode isnt representative of the distribution. The model also fails to give us an understanding of the uncertanity element in out prediction. This leaves a major blind spot which can be covered by ur next method.\n",
        "\n",
        "**Sampling methods-**  Using a **Markov Chain Monte Carlo** method  gves us markov chain of values given satisfaction of certain conditions. Output we get is indistinguishable from the posteriori distribution. "
      ]
    },
    {
      "cell_type": "markdown",
      "metadata": {
        "id": "z6w3r4c_ckSA",
        "colab_type": "text"
      },
      "source": [
        "#### Required Libraries "
      ]
    },
    {
      "cell_type": "code",
      "metadata": {
        "id": "s4QKF7eFclr4",
        "colab_type": "code",
        "colab": {}
      },
      "source": [
        "import matplotlib.pyplot as plt\n",
        "%matplotlib inline \n",
        "import numpy as np\n",
        "import pymc3 as pm"
      ],
      "execution_count": 0,
      "outputs": []
    },
    {
      "cell_type": "markdown",
      "metadata": {
        "id": "SY-O96fnCxJN",
        "colab_type": "text"
      },
      "source": [
        "#### Initialize X1 and X2 with random numbers"
      ]
    },
    {
      "cell_type": "code",
      "metadata": {
        "id": "WdXyYBhAB5Mj",
        "colab_type": "code",
        "colab": {
          "base_uri": "https://localhost:8080/",
          "height": 89
        },
        "outputId": "b1523d64-fde8-4e38-be1d-9cee25560351"
      },
      "source": [
        "np.random.seed(1368993)\n",
        "\n",
        "size= 100\n",
        "\n",
        "X1= np.random.randn(size)\n",
        "X2= np.random.randn(size)*0.2\n",
        "\n",
        "print(\"X1 = \"+ str(X1[:10]))\n",
        "print(\"X2 = \"+ str(X2[:10]))\n",
        "\n"
      ],
      "execution_count": 2,
      "outputs": [
        {
          "output_type": "stream",
          "text": [
            "X1 = [-0.38350554 -0.20330345  1.4006178   1.22645842  0.13943626 -0.65501548\n",
            "  0.41518279  0.00425347  0.36744034  0.30131119]\n",
            "X2 = [ 0.20927483  0.07293123 -0.13962291  0.25240832  0.19229777 -0.1882993\n",
            "  0.05866976 -0.02972943  0.17377152 -0.26083235]\n"
          ],
          "name": "stdout"
        }
      ]
    },
    {
      "cell_type": "markdown",
      "metadata": {
        "id": "GqSr1hJiC1r4",
        "colab_type": "text"
      },
      "source": [
        "#### We define base model by initialising all parameters <alpha, sigma, beta1, beta2>. We claulate the values of Y (Y= alpha + beta1*X1 + beta2*X2) from this."
      ]
    },
    {
      "cell_type": "code",
      "metadata": {
        "id": "UQwQLR2YCY-l",
        "colab_type": "code",
        "outputId": "f2434bfb-f016-435f-bd64-71f878941595",
        "colab": {
          "base_uri": "https://localhost:8080/",
          "height": 107
        }
      },
      "source": [
        "#true parameters\n",
        "true_alpha, true_sigma = 0.1, 0.1\n",
        "true_beta =[0.1,0.25]\n",
        "\n",
        "#y calculation \n",
        "noise = np.random.rand(size)*true_sigma\n",
        "Y_obs = true_alpha + true_beta[0]*X1 + true_beta[1]*X2 + noise\n",
        "\n",
        "#lets see the vaalue of our variables \n",
        "list(zip(X1[0:5],X2[0:5],Y_obs[:5]))"
      ],
      "execution_count": 3,
      "outputs": [
        {
          "output_type": "execute_result",
          "data": {
            "text/plain": [
              "[(-0.383505544470448, 0.20927483436776262, 0.15535490734566265),\n",
              " (-0.20330345355537124, 0.07293122819834374, 0.13394502961342603),\n",
              " (1.400617802079121, -0.13962291193154494, 0.24627948703014324),\n",
              " (1.226458418246808, 0.25240832222832327, 0.32185877539059043),\n",
              " (0.1394362609226127, 0.19229776818566371, 0.2324090600798492)]"
            ]
          },
          "metadata": {
            "tags": []
          },
          "execution_count": 3
        }
      ]
    },
    {
      "cell_type": "code",
      "metadata": {
        "id": "HPcnOzbCFHfa",
        "colab_type": "code",
        "outputId": "6bd0ec6a-b9b4-4491-9079-6a85cf0676e0",
        "colab": {
          "base_uri": "https://localhost:8080/",
          "height": 326
        }
      },
      "source": [
        "fig, axes= plt.subplots(1, 2, sharex=True, figsize=(10,4))\n",
        "axes[0].scatter(X1,Y_obs)\n",
        "axes[1].scatter(X2,Y_obs)\n",
        "axes[0].set_ylabel(\"Y_obs\"); axes[0].set_xlabel(\"X1\"); axes[1].set_xlabel(\"X2\"); fig.suptitle(\"Scatter - Basic Varable Dependence\")"
      ],
      "execution_count": 4,
      "outputs": [
        {
          "output_type": "execute_result",
          "data": {
            "text/plain": [
              "Text(0.5,0.98,'Scatter - Basic Varable Dependence')"
            ]
          },
          "metadata": {
            "tags": []
          },
          "execution_count": 4
        },
        {
          "output_type": "display_data",
          "data": {
            "image/png": "[encoded data removed]",
            "text/plain": [
              "<Figure size 720x288 with 2 Axes>"
            ]
          },
          "metadata": {
            "tags": []
          }
        }
      ]
    },
    {
      "cell_type": "markdown",
      "metadata": {
        "id": "Ls_bL3rOIphI",
        "colab_type": "text"
      },
      "source": [
        "###Model Specification"
      ]
    },
    {
      "cell_type": "code",
      "metadata": {
        "id": "BlCUoJATCrSe",
        "colab_type": "code",
        "colab": {}
      },
      "source": [
        "#define a model \n",
        "test_model = pm.Model() #this is a model object that acts as a container for model RVs\n",
        "\n",
        "#model elements will be defined using a with statement \n",
        "with test_model:\n",
        "  \n",
        "  #priors with unkown model parameters \n",
        "  alpha = pm.Normal('alpha', mu=0,sd=10)\n",
        "  beta= pm.Normal('beta',mu=0,sd=10,shape=2)\n",
        "  sigma = pm.HalfNormal('sigma',sd= 1)\n",
        "  \n",
        "  #expected value of outcome \n",
        "  mu = alpha + beta[0]*X1 + beta[1]*X2\n",
        "  \n",
        "  #likelihood of out estimate \n",
        "  Y=  pm.Normal('Y_obs', mu= mu, sd= sigma, observed = Y_obs)\n",
        "\n"
      ],
      "execution_count": 0,
      "outputs": []
    },
    {
      "cell_type": "markdown",
      "metadata": {
        "id": "q-qBp8AIXPYA",
        "colab_type": "text"
      },
      "source": [
        "### Using Maximum a posteriori (MAP) to estimate our posteriors "
      ]
    },
    {
      "cell_type": "code",
      "metadata": {
        "id": "VoSE80I-MK8_",
        "colab_type": "code",
        "outputId": "b32175a2-1196-477b-b43f-32c978b77a2b",
        "colab": {
          "base_uri": "https://localhost:8080/",
          "height": 91
        }
      },
      "source": [
        "map_estimate = pm.find_MAP(model = test_model)\n"
      ],
      "execution_count": 8,
      "outputs": [
        {
          "output_type": "stream",
          "text": [
            "/usr/local/lib/python2.7/dist-packages/pymc3/tuning/starting.py:61: UserWarning: find_MAP should not be used to initialize the NUTS sampler, simply call pymc3.sample() and it will automatically initialize NUTS in a better way.\n",
            "  warnings.warn('find_MAP should not be used to initialize the NUTS sampler, simply call pymc3.sample() and it will automatically initialize NUTS in a better way.')\n",
            "logp = 205.25, ||grad|| = 9.6009: 100%|██████████| 25/25 [00:00<00:00, 683.71it/s]  \n"
          ],
          "name": "stderr"
        }
      ]
    },
    {
      "cell_type": "markdown",
      "metadata": {
        "id": "dZtgdWYM7pxM",
        "colab_type": "text"
      },
      "source": [
        "### Mode point estimates \n",
        "\n",
        "The result gives us point estimates of our dependent variable. While this is descent first estimate we cannot comment on how definitive our parameter estimations are or compare the accuracy of the model in comparision with other moels."
      ]
    },
    {
      "cell_type": "code",
      "metadata": {
        "id": "Pd2oxDH3P8Xk",
        "colab_type": "code",
        "outputId": "21619eb3-09d3-468d-8d1d-6be429e860cf",
        "colab": {
          "base_uri": "https://localhost:8080/",
          "height": 89
        }
      },
      "source": [
        "map_estimate"
      ],
      "execution_count": 9,
      "outputs": [
        {
          "output_type": "execute_result",
          "data": {
            "text/plain": [
              "{'alpha': array(0.14993324),\n",
              " 'beta': array([0.09586028, 0.25042157]),\n",
              " 'sigma': array(0.02814689),\n",
              " 'sigma_log__': array(-3.57031843)}"
            ]
          },
          "metadata": {
            "tags": []
          },
          "execution_count": 9
        }
      ]
    },
    {
      "cell_type": "markdown",
      "metadata": {
        "id": "J2XsjUx7a46l",
        "colab_type": "text"
      },
      "source": [
        "### Markov Chain Monte Carlo Sampling"
      ]
    },
    {
      "cell_type": "code",
      "metadata": {
        "id": "rcf-v6ybXgOx",
        "colab_type": "code",
        "outputId": "85484cb6-807f-48a1-c412-c6ed1e5b81a6",
        "colab": {
          "base_uri": "https://localhost:8080/",
          "height": 125
        }
      },
      "source": [
        "with test_model:\n",
        "  \n",
        "  trace= pm.sample(draws= 5000, tune= 500, chains=1)"
      ],
      "execution_count": 10,
      "outputs": [
        {
          "output_type": "stream",
          "text": [
            "Auto-assigning NUTS sampler...\n",
            "Initializing NUTS using jitter+adapt_diag...\n",
            "Sequential sampling (1 chains in 1 job)\n",
            "NUTS: [sigma, beta, alpha]\n",
            "100%|██████████| 5500/5500 [00:07<00:00, 746.89it/s]\n",
            "Only one chain was sampled, this makes it impossible to run some convergence checks\n"
          ],
          "name": "stderr"
        }
      ]
    },
    {
      "cell_type": "code",
      "metadata": {
        "id": "dv2fO_3BbKix",
        "colab_type": "code",
        "outputId": "0ffc349e-c863-44a3-ea20-9130d016ed6a",
        "colab": {
          "base_uri": "https://localhost:8080/",
          "height": 107
        }
      },
      "source": [
        "trace['beta'][-5:]"
      ],
      "execution_count": 11,
      "outputs": [
        {
          "output_type": "execute_result",
          "data": {
            "text/plain": [
              "array([[0.10144532, 0.25285702],\n",
              "       [0.09670998, 0.24410499],\n",
              "       [0.09051442, 0.25700047],\n",
              "       [0.09185832, 0.25743074],\n",
              "       [0.09604011, 0.26619501]])"
            ]
          },
          "metadata": {
            "tags": []
          },
          "execution_count": 11
        }
      ]
    },
    {
      "cell_type": "markdown",
      "metadata": {
        "id": "FDYPMCStby5s",
        "colab_type": "text"
      },
      "source": [
        "###Posterior Analysis "
      ]
    },
    {
      "cell_type": "code",
      "metadata": {
        "id": "SFL7Tqo6bY9M",
        "colab_type": "code",
        "outputId": "f333040e-ab7c-4250-fbd8-73a5cedd7538",
        "colab": {
          "base_uri": "https://localhost:8080/",
          "height": 441
        }
      },
      "source": [
        "_ = pm.traceplot(trace)"
      ],
      "execution_count": 12,
      "outputs": [
        {
          "output_type": "display_data",
          "data": {
            "image/png": "[encoded data removed]",
            "text/plain": [
              "<Figure size 864x432 with 6 Axes>"
            ]
          },
          "metadata": {
            "tags": []
          }
        }
      ]
    },
    {
      "cell_type": "markdown",
      "metadata": {
        "id": "8FfpKQEU7ZDJ",
        "colab_type": "text"
      },
      "source": [
        "### Results \n",
        "\n",
        "We see the estimated values of out parameters along with the distribution metrics which gives us a deeper understading of our model fit. "
      ]
    },
    {
      "cell_type": "code",
      "metadata": {
        "id": "ligbMbt4b5AS",
        "colab_type": "code",
        "colab": {
          "base_uri": "https://localhost:8080/",
          "height": 175
        },
        "outputId": "b89b6a98-efab-4ec4-e961-b32e23e8d167"
      },
      "source": [
        "pm.summary(trace)"
      ],
      "execution_count": 13,
      "outputs": [
        {
          "output_type": "execute_result",
          "data": {
            "text/html": [
              "<div>\n",
              "<style scoped>\n",
              "    .dataframe tbody tr th:only-of-type {\n",
              "        vertical-align: middle;\n",
              "    }\n",
              "\n",
              "    .dataframe tbody tr th {\n",
              "        vertical-align: top;\n",
              "    }\n",
              "\n",
              "    .dataframe thead th {\n",
              "        text-align: right;\n",
              "    }\n",
              "</style>\n",
              "<table border=\"1\" class=\"dataframe\">\n",
              "  <thead>\n",
              "    <tr style=\"text-align: right;\">\n",
              "      <th></th>\n",
              "      <th>mean</th>\n",
              "      <th>sd</th>\n",
              "      <th>mc_error</th>\n",
              "      <th>hpd_2.5</th>\n",
              "      <th>hpd_97.5</th>\n",
              "    </tr>\n",
              "  </thead>\n",
              "  <tbody>\n",
              "    <tr>\n",
              "      <th>alpha</th>\n",
              "      <td>0.149971</td>\n",
              "      <td>0.002914</td>\n",
              "      <td>0.000039</td>\n",
              "      <td>0.144397</td>\n",
              "      <td>0.155749</td>\n",
              "    </tr>\n",
              "    <tr>\n",
              "      <th>beta__0</th>\n",
              "      <td>0.095857</td>\n",
              "      <td>0.003178</td>\n",
              "      <td>0.000043</td>\n",
              "      <td>0.089529</td>\n",
              "      <td>0.102007</td>\n",
              "    </tr>\n",
              "    <tr>\n",
              "      <th>beta__1</th>\n",
              "      <td>0.250213</td>\n",
              "      <td>0.014288</td>\n",
              "      <td>0.000165</td>\n",
              "      <td>0.222470</td>\n",
              "      <td>0.278802</td>\n",
              "    </tr>\n",
              "    <tr>\n",
              "      <th>sigma</th>\n",
              "      <td>0.028936</td>\n",
              "      <td>0.002094</td>\n",
              "      <td>0.000031</td>\n",
              "      <td>0.024955</td>\n",
              "      <td>0.033125</td>\n",
              "    </tr>\n",
              "  </tbody>\n",
              "</table>\n",
              "</div>"
            ],
            "text/plain": [
              "             mean        sd  mc_error   hpd_2.5  hpd_97.5\n",
              "alpha    0.149971  0.002914  0.000039  0.144397  0.155749\n",
              "beta__0  0.095857  0.003178  0.000043  0.089529  0.102007\n",
              "beta__1  0.250213  0.014288  0.000165  0.222470  0.278802\n",
              "sigma    0.028936  0.002094  0.000031  0.024955  0.033125"
            ]
          },
          "metadata": {
            "tags": []
          },
          "execution_count": 13
        }
      ]
    }
  ]
}
